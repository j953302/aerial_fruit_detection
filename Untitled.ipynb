{
 "cells": [
  {
   "cell_type": "code",
   "execution_count": 4,
   "id": "alpha-transport",
   "metadata": {},
   "outputs": [],
   "source": [
    "import requests\n",
    "from bs4 import BeautifulSoup"
   ]
  },
  {
   "cell_type": "code",
   "execution_count": 5,
   "id": "developmental-airline",
   "metadata": {},
   "outputs": [],
   "source": [
    "url = \"https://www.google.com/search?q=apple+tree&tbm=isch&ved=2ahUKEwj-gK_0mvbyAhXRNaYKHQT_CxUQ2-cCegQIABAA&oq=apple+tree&gs_lcp=CgNpbWcQAzIFCAAQgAQyBQgAEIAEMgUIABCABDIFCAAQgAQyBQgAEIAEMgUIABCABDIFCAAQgAQyBQgAEIAEMgUIABCABDIFCAAQgAQ6BwgjEO8DECc6CAgAEIAEELEDOgoIIxDvAxDqAhAnOgsIABCABBCxAxCDAVDWc1iVhQFgnIYBaAFwAHgAgAFOiAHCBJIBAjExmAEAoAEBqgELZ3dzLXdpei1pbWewAQrAAQE&sclient=img&ei=gUE8Yb68JNHrmAWE_q-oAQ&bih=722&biw=1536\""
   ]
  },
  {
   "cell_type": "code",
   "execution_count": 6,
   "id": "accredited-medicine",
   "metadata": {},
   "outputs": [],
   "source": [
    "reqImage = requests.get(url)"
   ]
  },
  {
   "cell_type": "code",
   "execution_count": 7,
   "id": "neutral-glance",
   "metadata": {},
   "outputs": [
    {
     "data": {
      "text/plain": [
       "[<img alt=\"Google\" class=\"kgJEQe\" src=\"/images/branding/searchlogo/1x/googlelogo_desk_heirloom_color_150x55dp.gif\"/>,\n",
       " <img alt=\"\" class=\"yWs4tf\" src=\"https://encrypted-tbn0.gstatic.com/images?q=tbn:ANd9GcTy3iSEEY77KJFseIy-OI3hfMqJzXPYPnY0G-3y7HxvPagP8F_5blTvGsKoOQ&amp;s\"/>,\n",
       " <img alt=\"\" class=\"yWs4tf\" src=\"https://encrypted-tbn0.gstatic.com/images?q=tbn:ANd9GcTT27i5x42t54QnU65zCGfVUaG2RpiEWmNwno0Pljaum08wyEhDpnqTLLbrZw&amp;s\"/>,\n",
       " <img alt=\"\" class=\"yWs4tf\" src=\"https://encrypted-tbn0.gstatic.com/images?q=tbn:ANd9GcQSc9Gn6ps6ASb31CMaBYkEa86iY6P1TaxoddhzqdZwUk1769-1_1GBEB9F-w&amp;s\"/>,\n",
       " <img alt=\"\" class=\"yWs4tf\" src=\"https://encrypted-tbn0.gstatic.com/images?q=tbn:ANd9GcTapW5g69thQ-6sPkjM-3ltXVdTeaNVSPnWfC93P7HzIV7Wo-Rh4FmnmAky6dQ&amp;s\"/>,\n",
       " <img alt=\"\" class=\"yWs4tf\" src=\"https://encrypted-tbn0.gstatic.com/images?q=tbn:ANd9GcSElLh9dehW83h0IW-AFgcCYw-XHabGt05vuydFcUq9tnORWPDdbZh8gam74Q&amp;s\"/>,\n",
       " <img alt=\"\" class=\"yWs4tf\" src=\"https://encrypted-tbn0.gstatic.com/images?q=tbn:ANd9GcTvu_naDrDL0Gye_YZqzeLch6zBcF6zrXwIDTUXZ9gwPWrGjiLMnBFi24HlAgY&amp;s\"/>,\n",
       " <img alt=\"\" class=\"yWs4tf\" src=\"https://encrypted-tbn0.gstatic.com/images?q=tbn:ANd9GcS5a2zNtvxUaJzwkaLB4QZwn4RtX5xMZKfPMesf8CQXNvOQiDM2PhsRrekBLfc&amp;s\"/>,\n",
       " <img alt=\"\" class=\"yWs4tf\" src=\"https://encrypted-tbn0.gstatic.com/images?q=tbn:ANd9GcQeorI17oVmWPTJ2kGGg-SJIvENNcFTjPkpA_J3iLj6GYBvVNX7ka6I_tXw_04&amp;s\"/>,\n",
       " <img alt=\"\" class=\"yWs4tf\" src=\"https://encrypted-tbn0.gstatic.com/images?q=tbn:ANd9GcTTKUE-FvSgGKjJrlqy0wO_EYY5_jfJeR9-0vfEcz0lFlsaWi-niboPv389Xrs&amp;s\"/>,\n",
       " <img alt=\"\" class=\"yWs4tf\" src=\"https://encrypted-tbn0.gstatic.com/images?q=tbn:ANd9GcT6XI0RF5pXMnwyqEvHMyvmerBbZm1CsOML1VD1ye2abRfj-DigXQiHmMpXqQ&amp;s\"/>,\n",
       " <img alt=\"\" class=\"yWs4tf\" src=\"https://encrypted-tbn0.gstatic.com/images?q=tbn:ANd9GcTOmLp1LJbApQb4Lgl60wH6o2lQYSv68zmabWpo-uy4IR8ZKVoe8_tmgNvLyQ&amp;s\"/>,\n",
       " <img alt=\"\" class=\"yWs4tf\" src=\"https://encrypted-tbn0.gstatic.com/images?q=tbn:ANd9GcQdyoVw2JbiyiZnQ2ns9VDvwQH6YrUHXl4ZTEb63D2t53C8oKfEMRfFntDzHNI&amp;s\"/>,\n",
       " <img alt=\"\" class=\"yWs4tf\" src=\"https://encrypted-tbn0.gstatic.com/images?q=tbn:ANd9GcQvVtar2X06EAKuWUsgkCiUGDMioxW4xZvq-5HUTnSF64pCFcbyBlwORoe9OPs&amp;s\"/>,\n",
       " <img alt=\"\" class=\"yWs4tf\" src=\"https://encrypted-tbn0.gstatic.com/images?q=tbn:ANd9GcThG-5sHea7QyS2lM8DBr_eICfbdVShFtSCI7HtUjU0KmLHZLkWVeK9HGDAvQ&amp;s\"/>,\n",
       " <img alt=\"\" class=\"yWs4tf\" src=\"https://encrypted-tbn0.gstatic.com/images?q=tbn:ANd9GcRW6rUtWdj5V8lkI0QzptU2ktjNXTGcs4tM174-UUvoxDhTkyOD6oBKOSXO&amp;s\"/>,\n",
       " <img alt=\"\" class=\"yWs4tf\" src=\"https://encrypted-tbn0.gstatic.com/images?q=tbn:ANd9GcS1tm3bc6sX_-7y9m0Mh4YKn7lpLtvUp6Cg6FdlyWG4c2KJxLqdskOKSwaG5g&amp;s\"/>,\n",
       " <img alt=\"\" class=\"yWs4tf\" src=\"https://encrypted-tbn0.gstatic.com/images?q=tbn:ANd9GcTf1b-t4AvXA0dKo2O9ujno0DESXQY8eVvccgMUEI1UoqKR6cuzwPcabzhWNw&amp;s\"/>,\n",
       " <img alt=\"\" class=\"yWs4tf\" src=\"https://encrypted-tbn0.gstatic.com/images?q=tbn:ANd9GcQi6ypXNBmY__h_zBj44aILjn5yOUrDkf2IjB4H-dXnXrb_pq89dpbMdHUW7A&amp;s\"/>,\n",
       " <img alt=\"\" class=\"yWs4tf\" src=\"https://encrypted-tbn0.gstatic.com/images?q=tbn:ANd9GcQPV9uvyiM2VxoYMyEThmd_BhsrcWbNtcAwdSNzpuaqpaK0F6rCy1vIHU5eNw&amp;s\"/>,\n",
       " <img alt=\"\" class=\"yWs4tf\" src=\"https://encrypted-tbn0.gstatic.com/images?q=tbn:ANd9GcQN3KZlT2SzxbnB7DpGWFtmpIXzo0yLAqpeHH96Ssg4vfugS2UaCsjVLl796GI&amp;s\"/>]"
      ]
     },
     "execution_count": 7,
     "metadata": {},
     "output_type": "execute_result"
    }
   ],
   "source": [
    "soup = BeautifulSoup(reqImage.text,'lxml')\n",
    "soup.select('img')"
   ]
  },
  {
   "cell_type": "code",
   "execution_count": 8,
   "id": "neural-sense",
   "metadata": {},
   "outputs": [
    {
     "name": "stdout",
     "output_type": "stream",
     "text": [
      "/images/branding/searchlogo/1x/googlelogo_desk_heirloom_color_150x55dp.gif\n",
      "https://encrypted-tbn0.gstatic.com/images?q=tbn:ANd9GcTy3iSEEY77KJFseIy-OI3hfMqJzXPYPnY0G-3y7HxvPagP8F_5blTvGsKoOQ&s\n",
      "https://encrypted-tbn0.gstatic.com/images?q=tbn:ANd9GcTT27i5x42t54QnU65zCGfVUaG2RpiEWmNwno0Pljaum08wyEhDpnqTLLbrZw&s\n",
      "https://encrypted-tbn0.gstatic.com/images?q=tbn:ANd9GcQSc9Gn6ps6ASb31CMaBYkEa86iY6P1TaxoddhzqdZwUk1769-1_1GBEB9F-w&s\n",
      "https://encrypted-tbn0.gstatic.com/images?q=tbn:ANd9GcTapW5g69thQ-6sPkjM-3ltXVdTeaNVSPnWfC93P7HzIV7Wo-Rh4FmnmAky6dQ&s\n",
      "https://encrypted-tbn0.gstatic.com/images?q=tbn:ANd9GcSElLh9dehW83h0IW-AFgcCYw-XHabGt05vuydFcUq9tnORWPDdbZh8gam74Q&s\n",
      "https://encrypted-tbn0.gstatic.com/images?q=tbn:ANd9GcTvu_naDrDL0Gye_YZqzeLch6zBcF6zrXwIDTUXZ9gwPWrGjiLMnBFi24HlAgY&s\n",
      "https://encrypted-tbn0.gstatic.com/images?q=tbn:ANd9GcS5a2zNtvxUaJzwkaLB4QZwn4RtX5xMZKfPMesf8CQXNvOQiDM2PhsRrekBLfc&s\n",
      "https://encrypted-tbn0.gstatic.com/images?q=tbn:ANd9GcQeorI17oVmWPTJ2kGGg-SJIvENNcFTjPkpA_J3iLj6GYBvVNX7ka6I_tXw_04&s\n",
      "https://encrypted-tbn0.gstatic.com/images?q=tbn:ANd9GcTTKUE-FvSgGKjJrlqy0wO_EYY5_jfJeR9-0vfEcz0lFlsaWi-niboPv389Xrs&s\n",
      "https://encrypted-tbn0.gstatic.com/images?q=tbn:ANd9GcT6XI0RF5pXMnwyqEvHMyvmerBbZm1CsOML1VD1ye2abRfj-DigXQiHmMpXqQ&s\n",
      "https://encrypted-tbn0.gstatic.com/images?q=tbn:ANd9GcTOmLp1LJbApQb4Lgl60wH6o2lQYSv68zmabWpo-uy4IR8ZKVoe8_tmgNvLyQ&s\n",
      "https://encrypted-tbn0.gstatic.com/images?q=tbn:ANd9GcQdyoVw2JbiyiZnQ2ns9VDvwQH6YrUHXl4ZTEb63D2t53C8oKfEMRfFntDzHNI&s\n",
      "https://encrypted-tbn0.gstatic.com/images?q=tbn:ANd9GcQvVtar2X06EAKuWUsgkCiUGDMioxW4xZvq-5HUTnSF64pCFcbyBlwORoe9OPs&s\n",
      "https://encrypted-tbn0.gstatic.com/images?q=tbn:ANd9GcThG-5sHea7QyS2lM8DBr_eICfbdVShFtSCI7HtUjU0KmLHZLkWVeK9HGDAvQ&s\n",
      "https://encrypted-tbn0.gstatic.com/images?q=tbn:ANd9GcRW6rUtWdj5V8lkI0QzptU2ktjNXTGcs4tM174-UUvoxDhTkyOD6oBKOSXO&s\n",
      "https://encrypted-tbn0.gstatic.com/images?q=tbn:ANd9GcS1tm3bc6sX_-7y9m0Mh4YKn7lpLtvUp6Cg6FdlyWG4c2KJxLqdskOKSwaG5g&s\n",
      "https://encrypted-tbn0.gstatic.com/images?q=tbn:ANd9GcTf1b-t4AvXA0dKo2O9ujno0DESXQY8eVvccgMUEI1UoqKR6cuzwPcabzhWNw&s\n",
      "https://encrypted-tbn0.gstatic.com/images?q=tbn:ANd9GcQi6ypXNBmY__h_zBj44aILjn5yOUrDkf2IjB4H-dXnXrb_pq89dpbMdHUW7A&s\n",
      "https://encrypted-tbn0.gstatic.com/images?q=tbn:ANd9GcQPV9uvyiM2VxoYMyEThmd_BhsrcWbNtcAwdSNzpuaqpaK0F6rCy1vIHU5eNw&s\n",
      "https://encrypted-tbn0.gstatic.com/images?q=tbn:ANd9GcQN3KZlT2SzxbnB7DpGWFtmpIXzo0yLAqpeHH96Ssg4vfugS2UaCsjVLl796GI&s\n"
     ]
    }
   ],
   "source": [
    "for weblink in soup.select('img'):\n",
    "    print (weblink.get('src'))"
   ]
  },
  {
   "cell_type": "code",
   "execution_count": null,
   "id": "exclusive-avenue",
   "metadata": {},
   "outputs": [],
   "source": []
  }
 ],
 "metadata": {
  "kernelspec": {
   "display_name": "Python 3",
   "language": "python",
   "name": "python3"
  },
  "language_info": {
   "codemirror_mode": {
    "name": "ipython",
    "version": 3
   },
   "file_extension": ".py",
   "mimetype": "text/x-python",
   "name": "python",
   "nbconvert_exporter": "python",
   "pygments_lexer": "ipython3",
   "version": "3.6.10"
  }
 },
 "nbformat": 4,
 "nbformat_minor": 5
}
